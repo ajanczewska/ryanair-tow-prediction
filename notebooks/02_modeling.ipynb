{
 "cells": [
  {
   "cell_type": "code",
   "execution_count": 23,
   "id": "f1e1c7cc",
   "metadata": {},
   "outputs": [],
   "source": [
    "from sklearn.linear_model import LinearRegression\n",
    "from sklearn.linear_model import Ridge\n",
    "from sklearn.linear_model import Lasso\n",
    "from sklearn.ensemble import RandomForestRegressor\n",
    "import xgboost as XGBRegressor\n",
    "\n",
    "from sklearn.preprocessing import StandardScaler\n",
    "from sklearn.model_selection import train_test_split, cross_val_score, TimeSeriesSplit\n",
    "from sklearn.metrics import root_mean_squared_error\n",
    "\n",
    "import pandas as pd\n",
    "\n",
    "from sklearn.pipeline import Pipeline\n",
    "from sklearn.feature_selection import SelectKBest, f_regression\n",
    "import optuna"
   ]
  },
  {
   "cell_type": "code",
   "execution_count": 6,
   "id": "82ecb1c6",
   "metadata": {},
   "outputs": [],
   "source": [
    "df_train = pd.read_csv('../data/temp/training_cleaned.csv', sep='\\t')\n",
    "df_test = pd.read_csv('../data/temp/validation_cleaned.csv', sep='\\t')"
   ]
  },
  {
   "cell_type": "markdown",
   "id": "d119eac8",
   "metadata": {},
   "source": [
    "# Modele\n",
    "\n",
    "- Regresja liniowa,\n",
    "\n",
    "- Regresja grzbietowa\n",
    "\n",
    "- Regresja Lasso\n",
    "\n",
    "- Random Forest Regression,\n",
    "\n",
    "- XGBoost"
   ]
  },
  {
   "cell_type": "code",
   "execution_count": 18,
   "id": "a5f0f58f",
   "metadata": {},
   "outputs": [],
   "source": [
    "FEATURES = ['ActualTotalFuel', 'FLownPassengers', 'BagsCount', 'FlightBagsWeight']\n",
    "TARGET = 'ActualTOW'"
   ]
  },
  {
   "cell_type": "code",
   "execution_count": null,
   "id": "e1015309",
   "metadata": {},
   "outputs": [
    {
     "name": "stderr",
     "output_type": "stream",
     "text": [
      "[I 2025-05-15 18:20:26,588] A new study created in memory with name: no-name-796cbe49-00c9-4742-996f-f1503beb7e7b\n",
      "[I 2025-05-15 18:20:32,735] Trial 0 finished with value: 1363.7247266904737 and parameters: {'n_features': 3, 'n_estimators': 195, 'max_depth': 13, 'min_samples_split': 8}. Best is trial 0 with value: 1363.7247266904737.\n",
      "[I 2025-05-15 18:20:34,084] Trial 1 finished with value: 2155.131330757308 and parameters: {'n_features': 1, 'n_estimators': 114, 'max_depth': 18, 'min_samples_split': 7}. Best is trial 0 with value: 1363.7247266904737.\n",
      "[I 2025-05-15 18:20:35,124] Trial 2 finished with value: 1193.1582428281429 and parameters: {'n_features': 4, 'n_estimators': 75, 'max_depth': 10, 'min_samples_split': 7}. Best is trial 2 with value: 1193.1582428281429.\n",
      "[I 2025-05-15 18:20:36,174] Trial 3 finished with value: 2142.9483378612617 and parameters: {'n_features': 1, 'n_estimators': 107, 'max_depth': 15, 'min_samples_split': 6}. Best is trial 2 with value: 1193.1582428281429.\n",
      "[I 2025-05-15 18:20:37,402] Trial 4 finished with value: 1375.9226652477655 and parameters: {'n_features': 2, 'n_estimators': 121, 'max_depth': 11, 'min_samples_split': 7}. Best is trial 2 with value: 1193.1582428281429.\n",
      "[I 2025-05-15 18:20:38,645] Trial 5 finished with value: 2142.4327760197375 and parameters: {'n_features': 1, 'n_estimators': 126, 'max_depth': 14, 'min_samples_split': 4}. Best is trial 2 with value: 1193.1582428281429.\n",
      "[I 2025-05-15 18:20:39,209] Trial 6 finished with value: 2054.506202926154 and parameters: {'n_features': 1, 'n_estimators': 67, 'max_depth': 4, 'min_samples_split': 8}. Best is trial 2 with value: 1193.1582428281429.\n",
      "[I 2025-05-15 18:20:41,751] Trial 7 finished with value: 1229.0749503631928 and parameters: {'n_features': 4, 'n_estimators': 138, 'max_depth': 15, 'min_samples_split': 3}. Best is trial 2 with value: 1193.1582428281429.\n",
      "[I 2025-05-15 18:20:43,188] Trial 8 finished with value: 2059.023435517464 and parameters: {'n_features': 1, 'n_estimators': 200, 'max_depth': 6, 'min_samples_split': 3}. Best is trial 2 with value: 1193.1582428281429.\n",
      "[I 2025-05-15 18:20:43,767] Trial 9 finished with value: 1355.3165893157573 and parameters: {'n_features': 2, 'n_estimators': 51, 'max_depth': 6, 'min_samples_split': 9}. Best is trial 2 with value: 1193.1582428281429.\n",
      "[I 2025-05-15 18:20:45,289] Trial 10 finished with value: 1210.8677496844643 and parameters: {'n_features': 4, 'n_estimators': 85, 'max_depth': 20, 'min_samples_split': 10}. Best is trial 2 with value: 1193.1582428281429.\n",
      "[I 2025-05-15 18:20:46,503] Trial 11 finished with value: 1189.2580928482457 and parameters: {'n_features': 4, 'n_estimators': 82, 'max_depth': 10, 'min_samples_split': 10}. Best is trial 11 with value: 1189.2580928482457.\n",
      "[I 2025-05-15 18:20:47,523] Trial 12 finished with value: 1350.1358019910767 and parameters: {'n_features': 3, 'n_estimators': 82, 'max_depth': 10, 'min_samples_split': 5}. Best is trial 11 with value: 1189.2580928482457.\n",
      "[I 2025-05-15 18:20:49,496] Trial 13 finished with value: 1181.1811439782005 and parameters: {'n_features': 4, 'n_estimators': 159, 'max_depth': 9, 'min_samples_split': 10}. Best is trial 13 with value: 1181.1811439782005.\n",
      "[I 2025-05-15 18:20:50,994] Trial 14 finished with value: 1339.4691007811423 and parameters: {'n_features': 3, 'n_estimators': 161, 'max_depth': 7, 'min_samples_split': 10}. Best is trial 13 with value: 1181.1811439782005.\n",
      "[I 2025-05-15 18:20:52,754] Trial 15 finished with value: 1178.185096208878 and parameters: {'n_features': 4, 'n_estimators': 161, 'max_depth': 8, 'min_samples_split': 10}. Best is trial 15 with value: 1178.185096208878.\n",
      "[I 2025-05-15 18:20:54,460] Trial 16 finished with value: 1337.871188705698 and parameters: {'n_features': 3, 'n_estimators': 164, 'max_depth': 8, 'min_samples_split': 9}. Best is trial 15 with value: 1178.185096208878.\n",
      "[I 2025-05-15 18:20:55,889] Trial 17 finished with value: 1344.7911556761208 and parameters: {'n_features': 4, 'n_estimators': 171, 'max_depth': 4, 'min_samples_split': 9}. Best is trial 15 with value: 1178.185096208878.\n",
      "[I 2025-05-15 18:20:57,673] Trial 18 finished with value: 1176.9197648987524 and parameters: {'n_features': 4, 'n_estimators': 149, 'max_depth': 8, 'min_samples_split': 2}. Best is trial 18 with value: 1176.9197648987524.\n",
      "[I 2025-05-15 18:20:58,907] Trial 19 finished with value: 1385.5805372290727 and parameters: {'n_features': 2, 'n_estimators': 143, 'max_depth': 5, 'min_samples_split': 2}. Best is trial 18 with value: 1176.9197648987524.\n",
      "[I 2025-05-15 18:21:01,314] Trial 20 finished with value: 1364.7337141648002 and parameters: {'n_features': 3, 'n_estimators': 181, 'max_depth': 12, 'min_samples_split': 5}. Best is trial 18 with value: 1176.9197648987524.\n",
      "[I 2025-05-15 18:21:03,142] Trial 21 finished with value: 1176.9259486843189 and parameters: {'n_features': 4, 'n_estimators': 147, 'max_depth': 8, 'min_samples_split': 2}. Best is trial 18 with value: 1176.9197648987524.\n",
      "[I 2025-05-15 18:21:04,955] Trial 22 finished with value: 1177.0408628269784 and parameters: {'n_features': 4, 'n_estimators': 145, 'max_depth': 8, 'min_samples_split': 2}. Best is trial 18 with value: 1176.9197648987524.\n",
      "[I 2025-05-15 18:21:06,301] Trial 23 finished with value: 1569.4504199693542 and parameters: {'n_features': 4, 'n_estimators': 146, 'max_depth': 3, 'min_samples_split': 2}. Best is trial 18 with value: 1176.9197648987524.\n",
      "[I 2025-05-15 18:21:07,809] Trial 24 finished with value: 1337.2288552682155 and parameters: {'n_features': 3, 'n_estimators': 133, 'max_depth': 8, 'min_samples_split': 3}. Best is trial 18 with value: 1176.9197648987524.\n",
      "[I 2025-05-15 18:21:08,967] Trial 25 finished with value: 1191.6557794551616 and parameters: {'n_features': 4, 'n_estimators': 101, 'max_depth': 6, 'min_samples_split': 2}. Best is trial 18 with value: 1176.9197648987524.\n",
      "[I 2025-05-15 18:21:11,304] Trial 26 finished with value: 1207.391553062468 and parameters: {'n_features': 4, 'n_estimators': 147, 'max_depth': 12, 'min_samples_split': 4}. Best is trial 18 with value: 1176.9197648987524.\n",
      "[I 2025-05-15 18:21:13,128] Trial 27 finished with value: 1338.2616692520992 and parameters: {'n_features': 3, 'n_estimators': 186, 'max_depth': 7, 'min_samples_split': 4}. Best is trial 18 with value: 1176.9197648987524.\n",
      "[I 2025-05-15 18:21:15,300] Trial 28 finished with value: 1183.768659772573 and parameters: {'n_features': 4, 'n_estimators': 176, 'max_depth': 9, 'min_samples_split': 2}. Best is trial 18 with value: 1176.9197648987524.\n",
      "[I 2025-05-15 18:21:17,312] Trial 29 finished with value: 1362.7682602866898 and parameters: {'n_features': 3, 'n_estimators': 150, 'max_depth': 11, 'min_samples_split': 3}. Best is trial 18 with value: 1176.9197648987524.\n"
     ]
    },
    {
     "name": "stdout",
     "output_type": "stream",
     "text": [
      "Najlepsze parametry: {'n_features': 4, 'n_estimators': 149, 'max_depth': 8, 'min_samples_split': 2}\n"
     ]
    }
   ],
   "source": [
    "X = df_train[FEATURES]\n",
    "y = df_train[TARGET]\n",
    "\n",
    "train_size = int(len(df_train) * 0.8)\n",
    "X_train, X_val = X.iloc[:train_size], X.iloc[train_size:]\n",
    "y_train, y_val = y.iloc[:train_size], y.iloc[train_size:]\n",
    "\n",
    "def objective(trial):\n",
    "    n_features = trial.suggest_int(\"n_features\", 1, len(FEATURES))\n",
    "\n",
    "    model = RandomForestRegressor(\n",
    "        n_estimators=trial.suggest_int(\"n_estimators\", 50, 200),\n",
    "        max_depth=trial.suggest_int(\"max_depth\", 3, 20),\n",
    "        min_samples_split=trial.suggest_int(\"min_samples_split\", 2, 10),\n",
    "        random_state=42,\n",
    "        n_jobs=-1\n",
    "    )\n",
    "\n",
    "    pipeline = Pipeline([\n",
    "        (\"scaler\", StandardScaler()),\n",
    "        (\"feature_selection\", SelectKBest(score_func=f_regression, k=n_features)),\n",
    "        (\"regressor\", model)\n",
    "    ])\n",
    "\n",
    "    scores = cross_val_score(\n",
    "        pipeline, X_train, y_train,\n",
    "        scoring = \"neg_root_mean_squared_error\",\n",
    "        cv = TimeSeriesSplit(n_splits=5)\n",
    "    )\n",
    "    return -scores.mean()\n",
    "\n",
    "# === Uruchomienie Optuny ===\n",
    "study = optuna.create_study(direction=\"minimize\")\n",
    "study.optimize(objective, n_trials=30)\n",
    "\n",
    "print(\"Najlepsze parametry:\", study.best_params)\n",
    "\n"
   ]
  },
  {
   "cell_type": "code",
   "execution_count": 27,
   "id": "cf420ae1",
   "metadata": {},
   "outputs": [
    {
     "name": "stdout",
     "output_type": "stream",
     "text": [
      "RMSE na zbiorze walidacyjnym: 1205.27\n"
     ]
    }
   ],
   "source": [
    "best_params = study.best_params\n",
    "\n",
    "final_model = Pipeline([\n",
    "    (\"scaler\", StandardScaler()),\n",
    "    (\"feature_selection\", SelectKBest(score_func=f_regression, k=best_params[\"n_features\"])),\n",
    "    (\"regressor\", RandomForestRegressor(\n",
    "        n_estimators=best_params[\"n_estimators\"],\n",
    "        max_depth=best_params[\"max_depth\"],\n",
    "        min_samples_split=best_params[\"min_samples_split\"],\n",
    "        random_state=42,\n",
    "        n_jobs=-1\n",
    "    ))\n",
    "])\n",
    "\n",
    "final_model.fit(X_train, y_train)\n",
    "y_pred = final_model.predict(X_val)\n",
    "rmse = root_mean_squared_error(y_val, y_pred)\n",
    "print(f\"RMSE na zbiorze walidacyjnym: {rmse:.2f}\")\n"
   ]
  }
 ],
 "metadata": {
  "kernelspec": {
   "display_name": "Python 3",
   "language": "python",
   "name": "python3"
  },
  "language_info": {
   "codemirror_mode": {
    "name": "ipython",
    "version": 3
   },
   "file_extension": ".py",
   "mimetype": "text/x-python",
   "name": "python",
   "nbconvert_exporter": "python",
   "pygments_lexer": "ipython3",
   "version": "3.9.7"
  }
 },
 "nbformat": 4,
 "nbformat_minor": 5
}
